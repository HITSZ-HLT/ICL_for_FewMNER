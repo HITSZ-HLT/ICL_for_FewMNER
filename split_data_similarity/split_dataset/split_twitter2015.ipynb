{
 "cells": [
  {
   "cell_type": "code",
   "execution_count": 25,
   "metadata": {},
   "outputs": [],
   "source": [
    "import pandas as pd\n",
    "import numpy as np\n",
    "import shutil\n",
    "import os"
   ]
  },
  {
   "cell_type": "code",
   "execution_count": 32,
   "metadata": {},
   "outputs": [],
   "source": [
    "def random_data(pd_data, n,  seed):\n",
    "    pd_data = pd_data.sample(n=n, random_state=seed)\n",
    "    pd_data.reset_index(inplace=True)\n",
    "    return pd_data\n",
    "\n",
    "def copy_img(pd_data, dir_name):\n",
    "    for i in range(len(pd_data)):\n",
    "        imgae_id = pd_data.loc[i, \"image_id\"]\n",
    "        source_root = \"/data10T/caichenran/2023/MICL/dataset/mner/twitter2015_images/\"\n",
    "        source_path = source_root + imgae_id\n",
    "        target_root = \"/data10T/caichenran/2023/MICL/split_dataset/twitter2015/\"\n",
    "        target_path = target_root + dir_name + \"/images/\"\n",
    "        if not os.path.exists(target_path):\n",
    "            os.makedirs(target_path)\n",
    "        target_path += imgae_id\n",
    "        shutil.copy(source_path, target_path)\n",
    "        csv_name = target_root + dir_name + \"/train-\" + dir_name + \".csv\"\n",
    "        pd_data.to_csv(csv_name, index=False, sep=\"\\t\")\n",
    "\n",
    "seed = [41, 42, 43]\n",
    "pd_train = pd.read_csv(\"../image_caption_ofa/twitter2015_process_caption_train.csv\", sep=\"\\t\")\n",
    "pd_train_10_1 = random_data(pd_data=pd_train, n=10, seed=seed[0])\n",
    "\n",
    "seed = [44, 45, 46]\n",
    "pd_train_50_1 = random_data(pd_data=pd_train, n=50, seed=seed[0])\n",
    "\n",
    "seed = [47, 48, 49]\n",
    "pd_train_100_1 = random_data(pd_data=pd_train, n=100, seed=seed[0])\n",
    "\n",
    "copy_img(pd_train_10_1, \"10-1\")\n",
    "\n",
    "copy_img(pd_train_50_1, \"50-1\")\n",
    "\n",
    "copy_img(pd_train_100_1, \"100-1\")\n"
   ]
  },
  {
   "cell_type": "code",
   "execution_count": 31,
   "metadata": {},
   "outputs": [],
   "source": [
    "\n",
    "\n",
    "\n",
    "\n",
    "\n"
   ]
  },
  {
   "cell_type": "code",
   "execution_count": null,
   "metadata": {},
   "outputs": [],
   "source": []
  }
 ],
 "metadata": {
  "kernelspec": {
   "display_name": "ricky_v2",
   "language": "python",
   "name": "python3"
  },
  "language_info": {
   "codemirror_mode": {
    "name": "ipython",
    "version": 3
   },
   "file_extension": ".py",
   "mimetype": "text/x-python",
   "name": "python",
   "nbconvert_exporter": "python",
   "pygments_lexer": "ipython3",
   "version": "3.7.4"
  },
  "orig_nbformat": 4
 },
 "nbformat": 4,
 "nbformat_minor": 2
}
